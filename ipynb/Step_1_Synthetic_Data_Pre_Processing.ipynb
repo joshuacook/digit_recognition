{
 "cells": [
  {
   "cell_type": "markdown",
   "metadata": {},
   "source": [
    "## Step 1: Synthetic Data Pre-Processing\n",
    "\n",
    "Generate a synthetic dataset by concatenating character images from [notMNIST][notMNIST] or [MNIST][MNIST]. You might, for example limit yourself to sequences up to five digits. \n",
    "\n",
    "Considerations:\n",
    "- If you use sequences with up to five digits you would then use five classifiers on top of your deep network. You would have to incorporate an additional ‘blank’ character to account for shorter number sequences.\n",
    "- Your labels should be one-hot encoded\n",
    "- Your input data should be standardized\n",
    "- You may want to include subsets of your data to use while your write the code for your neural network\n",
    "\n",
    "[notMNIST]: http://yaroslavvb.blogspot.com/2011/09/notmnist-dataset.html\n",
    "[MNIST]: http://yann.lecun.com/exdb/mnist/"
   ]
  },
  {
   "cell_type": "markdown",
   "metadata": {},
   "source": [
    "#### This will set the current working directory for the kernel being run by this notebook at the root of your project so that you can import code from `lib`\n",
    "\n",
    "**NOTE:** Make sure not to run this more than once. "
   ]
  },
  {
   "cell_type": "code",
   "execution_count": 1,
   "metadata": {
    "collapsed": false
   },
   "outputs": [],
   "source": [
    "from os import chdir; chdir('..')"
   ]
  },
  {
   "cell_type": "code",
   "execution_count": 2,
   "metadata": {
    "collapsed": false
   },
   "outputs": [],
   "source": [
    "import matplotlib.pyplot as plt\n",
    "%matplotlib inline\n",
    "\n",
    "from lib.data import pickle_data_dictionary\n",
    "from lib.retrieval import maybe_download, maybe_extract, maybe_pickle\n",
    "from lib.preprocess import instantiate_datasets, make_synthetic_datasets "
   ]
  },
  {
   "cell_type": "markdown",
   "metadata": {},
   "source": [
    "### Retrieve the notMNIST dataset and pickle for local use"
   ]
  },
  {
   "cell_type": "markdown",
   "metadata": {},
   "source": [
    "Use the predefined functions included in the `lib.retrieval` module to import the data you will use."
   ]
  },
  {
   "cell_type": "code",
   "execution_count": 3,
   "metadata": {
    "collapsed": false
   },
   "outputs": [
    {
     "name": "stdout",
     "output_type": "stream",
     "text": [
      "('Found and verified', 'data/notMNIST_large.tar.gz')\n",
      "data/notMNIST_large already present - Skipping extraction of data/notMNIST_large.tar.gz.\n",
      "['data/notMNIST_large/A', 'data/notMNIST_large/B', 'data/notMNIST_large/C', 'data/notMNIST_large/D', 'data/notMNIST_large/E', 'data/notMNIST_large/F', 'data/notMNIST_large/G', 'data/notMNIST_large/H', 'data/notMNIST_large/I', 'data/notMNIST_large/J']\n",
      "data/notMNIST_large/A.pickle already present - Skipping pickling.\n",
      "data/notMNIST_large/B.pickle already present - Skipping pickling.\n",
      "data/notMNIST_large/C.pickle already present - Skipping pickling.\n",
      "data/notMNIST_large/D.pickle already present - Skipping pickling.\n",
      "data/notMNIST_large/E.pickle already present - Skipping pickling.\n",
      "data/notMNIST_large/F.pickle already present - Skipping pickling.\n",
      "data/notMNIST_large/G.pickle already present - Skipping pickling.\n",
      "data/notMNIST_large/H.pickle already present - Skipping pickling.\n",
      "data/notMNIST_large/I.pickle already present - Skipping pickling.\n",
      "data/notMNIST_large/J.pickle already present - Skipping pickling.\n"
     ]
    }
   ],
   "source": [
    "train_filename = maybe_download('data/notMNIST_large.tar.gz', 247336696)\n",
    "train_folders = maybe_extract(train_filename)\n",
    "notmnist_datasets = maybe_pickle(train_folders, 45000)"
   ]
  },
  {
   "cell_type": "markdown",
   "metadata": {},
   "source": [
    "### Make Synthetic Dataset and Pickle for Local Use"
   ]
  },
  {
   "cell_type": "markdown",
   "metadata": {},
   "source": [
    "Define code in the `lib.preprocess` module that will return a data dictionary containing your synthetic dataset. You should have a training set, a validation set, and a testing set."
   ]
  },
  {
   "cell_type": "code",
   "execution_count": 4,
   "metadata": {
    "collapsed": false
   },
   "outputs": [
    {
     "name": "stdout",
     "output_type": "stream",
     "text": [
      "loading data:  . . . . . . . . . . \n",
      "shuffle data\n",
      "make dataset:  . . .\n",
      "reshape data for cnn:  . . .\n",
      "one-hot encode labels:  . . .\n"
     ]
    }
   ],
   "source": [
    "train_set, valid_set, test_set = instantiate_datasets()\n",
    "data_dictionary = make_synthetic_datasets(train_set, valid_set, test_set, notmnist_datasets)"
   ]
  },
  {
   "cell_type": "markdown",
   "metadata": {},
   "source": [
    "### Prepare a few plots of samples of your Synthetic Dataset"
   ]
  },
  {
   "cell_type": "code",
   "execution_count": 5,
   "metadata": {
    "collapsed": false
   },
   "outputs": [
    {
     "data": {
      "text/plain": [
       "['train_labels',\n",
       " 'test_labels',\n",
       " 'valid_set',\n",
       " 'single_digit_labels',\n",
       " 'one_hot_test_labels',\n",
       " 'single_digit_set',\n",
       " 'one_hot_train_labels',\n",
       " 'valid_labels',\n",
       " 'test_set',\n",
       " 'train_set',\n",
       " 'one_hot_valid_labels']"
      ]
     },
     "execution_count": 5,
     "metadata": {},
     "output_type": "execute_result"
    }
   ],
   "source": [
    "data_dictionary.keys()"
   ]
  },
  {
   "cell_type": "code",
   "execution_count": 6,
   "metadata": {
    "collapsed": true
   },
   "outputs": [],
   "source": [
    "import matplotlib.pyplot as plt"
   ]
  },
  {
   "cell_type": "code",
   "execution_count": 7,
   "metadata": {
    "collapsed": false
   },
   "outputs": [
    {
     "data": {
      "image/png": "[encoded data removed]",
      "text/plain": [
       "<matplotlib.figure.Figure at 0x7f057d973490>"
      ]
     },
     "metadata": {},
     "output_type": "display_data"
    }
   ],
   "source": [
    "fig = plt.figure(figsize=(20,4))\n",
    "\n",
    "for i in range(5):\n",
    "    fig.add_subplot(151+i)\n",
    "    im = data_dictionary['valid_set'][i+5]\n",
    "    plt.imshow(im.reshape(64,64))"
   ]
  },
  {
   "cell_type": "markdown",
   "metadata": {},
   "source": [
    "### Pickle your Synthetic Dataset"
   ]
  },
  {
   "cell_type": "markdown",
   "metadata": {},
   "source": [
    "Use the predefined function in the `lib.data` module in order to pickle your data dictionary for later use."
   ]
  },
  {
   "cell_type": "code",
   "execution_count": 8,
   "metadata": {
    "collapsed": false,
    "scrolled": true
   },
   "outputs": [
    {
     "name": "stdout",
     "output_type": "stream",
     "text": [
      "('Compressed pickle size:', 1895480725)\n"
     ]
    }
   ],
   "source": [
    "pickle_data_dictionary(data_dictionary, 'data/notMNIST_concat.pickle')"
   ]
  },
  {
   "cell_type": "code",
   "execution_count": null,
   "metadata": {
    "collapsed": true
   },
   "outputs": [],
   "source": []
  }
 ],
 "metadata": {
  "kernelspec": {
   "display_name": "Python 2",
   "language": "python",
   "name": "python2"
  },
  "language_info": {
   "codemirror_mode": {
    "name": "ipython",
    "version": 2
   },
   "file_extension": ".py",
   "mimetype": "text/x-python",
   "name": "python",
   "nbconvert_exporter": "python",
   "pygments_lexer": "ipython2",
   "version": "2.7.11"
  },
  "widgets": {
   "state": {},
   "version": "1.1.2"
  }
 },
 "nbformat": 4,
 "nbformat_minor": 2
}
